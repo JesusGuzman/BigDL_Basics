{
 "cells": [
  {
   "cell_type": "markdown",
   "metadata": {},
   "source": [
    "# Regresion Lineal"
   ]
  },
  {
   "cell_type": "markdown",
   "metadata": {},
   "source": [
    "A continuacion vamos a implementar una regresion lineal como base para \n",
    "la comprension de redes neuronales"
   ]
  },
  {
   "cell_type": "code",
   "execution_count": null,
   "metadata": {
    "collapsed": true
   },
   "outputs": [],
   "source": [
    "import matplotlib\n",
    "matplotlib.use('Agg')\n",
    "%pylab inline\n",
    "import pandas\n",
    "import datetime as dt\n",
    "\n",
    "from bigdl.nn.layer import *\n",
    "from bigdl.nn.criterion import *\n",
    "from bigdl.optim.optimizer import *\n",
    "from bigdl.util.common import *\n",
    "from bigdl.util.common import Sample\n",
    "import matplotlib.pyplot as plt\n",
    "from bigdl.dataset.transformer import *\n",
    "from matplotlib.pyplot import imshow\n",
    "from pyspark import SparkContext\n",
    "sc=SparkContext.getOrCreate(conf=create_spark_conf().setMaster(\"local[4]\").set(\"spark.driver.memory\",\"2g\"))\n",
    "\n",
    "init_engine()"
   ]
  },
  {
   "cell_type": "markdown",
   "metadata": {},
   "source": [
    "## 1 - Generando dataset aleatoriamente"
   ]
  },
  {
   "cell_type": "code",
   "execution_count": null,
   "metadata": {
    "collapsed": true
   },
   "outputs": [],
   "source": [
    "FEATURES_DIM = 2\n",
    "data_len = 100\n",
    "\n",
    "def gen_rand_sample():\n",
    "    features = np.random.uniform(0, 1, (FEATURES_DIM))\n",
    "    label = (2 * features).sum() + 0.4\n",
    "    return Sample.from_ndarray(features, label)\n",
    "\n",
    "rdd_train = sc.parallelize(range(0, data_len)).map( lambda i: gen_rand_sample() )"
   ]
  },
  {
   "cell_type": "markdown",
   "metadata": {},
   "source": [
    "## 2 - Definiendo los parametros"
   ]
  },
  {
   "cell_type": "code",
   "execution_count": null,
   "metadata": {
    "collapsed": true
   },
   "outputs": [],
   "source": [
    "learning_rate = 0.2\n",
    "training_epochs = 5\n",
    "batch_size = 4\n",
    "n_input = FEATURES_DIM\n",
    "n_output = 1 \n",
    "\n",
    "def linear_regression(n_input, n_output):\n",
    "    # Definimos nuestro modelo\n",
    "    model = Sequential()  \n",
    "    model.add(Linear(n_input, n_output))\n",
    " \n",
    "    return model\n",
    "\n",
    "model = linear_regression(n_input, n_output)"
   ]
  },
  {
   "cell_type": "markdown",
   "metadata": {},
   "source": [
    "## 3 - Definiendo el optimizador y entrenando el modelo"
   ]
  },
  {
   "cell_type": "code",
   "execution_count": null,
   "metadata": {
    "collapsed": true
   },
   "outputs": [],
   "source": [
    "# Definimos el optimizador\n",
    "optimizer = Optimizer(\n",
    "    model=model,\n",
    "    training_rdd=rdd_train,\n",
    "    criterion=MSECriterion(),\n",
    "    optim_method=SGD(learningrate=learning_rate),\n",
    "    end_trigger=MaxEpoch(training_epochs),\n",
    "    batch_size=batch_size)"
   ]
  },
  {
   "cell_type": "code",
   "execution_count": null,
   "metadata": {
    "collapsed": true
   },
   "outputs": [],
   "source": [
    "# Comenzamos el entrenamiento\n",
    "trained_model = optimizer.optimize()"
   ]
  },
  {
   "cell_type": "markdown",
   "metadata": {},
   "source": [
    "## 4 - Prediccion en datos de entrenamiento"
   ]
  },
  {
   "cell_type": "code",
   "execution_count": null,
   "metadata": {
    "collapsed": true
   },
   "outputs": [],
   "source": [
    "predict_result = trained_model.predict(rdd_train)\n",
    "p = predict_result.take(5)\n",
    "\n",
    "print(\"predict predict: \\n\")\n",
    "for i in p:\n",
    "    print(str(i) + \"\\n\")"
   ]
  },
  {
   "cell_type": "markdown",
   "metadata": {},
   "source": [
    "## 5 - Evaluacion del modelo "
   ]
  },
  {
   "cell_type": "code",
   "execution_count": null,
   "metadata": {
    "collapsed": true
   },
   "outputs": [],
   "source": [
    "def test_predict(trained_model):\n",
    "    np.random.seed(100)\n",
    "    total_length = 10\n",
    "    features = np.random.uniform(0, 1, (total_length, 2))\n",
    "    label = (features).sum() + 0.4\n",
    "    predict_data = sc.parallelize(range(0, total_length)).map(\n",
    "        lambda i: Sample.from_ndarray(features[i], label))\n",
    "    \n",
    "    predict_result = trained_model.predict(predict_data)\n",
    "    p = predict_result.take(6)\n",
    "    ground_label = np.array([[-0.47596836], [-0.37598032], [-0.00492062],\n",
    "                                 [-0.5906958], [-0.12307882], [-0.77907401]], dtype=\"float32\")\n",
    "    mse = ((p - ground_label) ** 2).mean()\n",
    "    print mse\n",
    "    \n",
    "test_predict(trained_model)"
   ]
  }
 ],
 "metadata": {
  "kernelspec": {
   "display_name": "Python 2",
   "language": "python",
   "name": "python2"
  },
  "language_info": {
   "codemirror_mode": {
    "name": "ipython",
    "version": 2
   },
   "file_extension": ".py",
   "mimetype": "text/x-python",
   "name": "python",
   "nbconvert_exporter": "python",
   "pygments_lexer": "ipython2",
   "version": "2.7.14"
  }
 },
 "nbformat": 4,
 "nbformat_minor": 2
}
