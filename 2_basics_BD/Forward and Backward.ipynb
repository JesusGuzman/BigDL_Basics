{
 "cells": [
  {
   "cell_type": "markdown",
   "metadata": {},
   "source": [
    "# Forward and backward"
   ]
  },
  {
   "cell_type": "markdown",
   "metadata": {},
   "source": [
    "En esta sección, revelaremos el mecanismo básico del proceso computacional de BigDL \n",
    "usando un ejemplo de regresión lineal simple. En este ejemplo, mostramos cómo obtener \n",
    "el gradiente con un único pase hacia adelante (Forward) y hacia atrás (Backward) para\n",
    "la actualización de los pesos.\n",
    "\n",
    "Primero tenemos que importar los módulos necesarios."
   ]
  },
  {
   "cell_type": "code",
   "execution_count": null,
   "metadata": {
    "collapsed": true
   },
   "outputs": [],
   "source": [
    "from bigdl.nn.layer import *\n",
    "from bigdl.nn.criterion import *\n",
    "import numpy as np"
   ]
  },
  {
   "cell_type": "markdown",
   "metadata": {},
   "source": [
    "Luego creamos una regresión lineal simple que puede formularse como:\n",
    "## y = Wx + b\n",
    "   \n",
    "donde W = [w1, w2] son pesos y b es el sesgo."
   ]
  },
  {
   "cell_type": "code",
   "execution_count": null,
   "metadata": {
    "collapsed": true
   },
   "outputs": [],
   "source": [
    "# El tamaño de entrada de los datos es de 2*1 y la salida es de tamaño 1*1\n",
    "linear = Linear(2, 1)\n",
    "# inicializamos nuestro modelo con valores random y los mostramos\n",
    "print linear.parameters()"
   ]
  },
  {
   "cell_type": "code",
   "execution_count": null,
   "metadata": {
    "collapsed": true
   },
   "outputs": [],
   "source": [
    "input = np.array([1,-2])\n",
    "# forward a la entrada\n",
    "output = linear.forward(input)\n",
    "print output"
   ]
  },
  {
   "cell_type": "markdown",
   "metadata": {},
   "source": [
    "Después de eso, calculamos el error utilizando AbsCrtierion para medir el valor absoluto medio \n",
    "de la diferencia de elemento a elemento entre la entrada y el objetivo, y luego retroprogramamos \n",
    "el error de la salida pronosticada a la entrada."
   ]
  },
  {
   "cell_type": "code",
   "execution_count": null,
   "metadata": {
    "collapsed": true
   },
   "outputs": [],
   "source": [
    "mae = AbsCriterion()\n",
    "target = np.array([0])\n",
    "\n",
    "loss = mae.forward(output, target)\n",
    "print(\"loss: \" + str(loss))\n",
    "        \n",
    "grad_output = mae.backward(output, target)\n",
    "linear.backward(input, grad_output)\n",
    "#Finalmente mostramos los parametros\n",
    "print linear.parameters()"
   ]
  },
  {
   "cell_type": "code",
   "execution_count": null,
   "metadata": {
    "collapsed": true
   },
   "outputs": [],
   "source": []
  }
 ],
 "metadata": {
  "kernelspec": {
   "display_name": "Python 2",
   "language": "python",
   "name": "python2"
  },
  "language_info": {
   "codemirror_mode": {
    "name": "ipython",
    "version": 2
   },
   "file_extension": ".py",
   "mimetype": "text/x-python",
   "name": "python",
   "nbconvert_exporter": "python",
   "pygments_lexer": "ipython2",
   "version": "2.7.14"
  }
 },
 "nbformat": 4,
 "nbformat_minor": 2
}
