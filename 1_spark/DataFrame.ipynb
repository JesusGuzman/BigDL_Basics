{
 "cells": [
  {
   "cell_type": "markdown",
   "metadata": {},
   "source": [
    "# Dataframe"
   ]
  },
  {
   "cell_type": "markdown",
   "metadata": {},
   "source": [
    "Spark SQL proporciona un tipo especial de colección de datos llamado DataFrame que se organiza \n",
    "en columnas con nombre, construidas sobre RDD. \n",
    "Es conceptualmente equivalente a una tabla en una base de datos relacional o un Dataframe en R/Python, \n",
    "pero con algunas optimizaciones. \n",
    "Los DataFrames se pueden construir a partir de una amplia gama de fuentes, tales como: \n",
    "    * archivos de datos estructurados \n",
    "    * tablas en Hive  \n",
    "    * bases de datos externas \n",
    "    * RDD existentes. \n",
    "En el siguiente ejemplo, mostraremos cómo crear un Dateframe para un conjunto de datos JSON."
   ]
  },
  {
   "cell_type": "code",
   "execution_count": null,
   "metadata": {
    "collapsed": true
   },
   "outputs": [],
   "source": [
    "# Definimos una lista de JSONś.\n",
    "json_strings = ['{\"name\":\"Bob\",\"address\":{\"city\":\"Los Angeles\",\"state\":\"California\"}}', ]\n",
    "# Definimos el RDD apartir de la lista json_string.\n",
    "peopleRDD = sc.parallelize(json_strings)\n",
    "# Creamos el DataFrame apartir de el RDD.\n",
    "people = spark.read.json(peopleRDD)\n",
    "people.show()"
   ]
  },
  {
   "cell_type": "markdown",
   "metadata": {},
   "source": [
    "## Busqueda de texto"
   ]
  },
  {
   "cell_type": "code",
   "execution_count": null,
   "metadata": {
    "collapsed": true
   },
   "outputs": [],
   "source": [
    "from pyspark.sql import Row\n",
    "\n",
    "text_data = sc.parallelize([\"MYSQL ERROR 1\\n\",\"MYSQL ERROR 2\\n\",\"MYSQL\\n\"])\n",
    "# Creamos el DataFrame apartir del RDD (lista de strings)\n",
    "df = text_data.map(lambda r: Row(r)).toDF([\"line\"])\n",
    "# Contamos el numero de veces que aparece la palabra ERROR\n",
    "errors = df.filter(df[\"line\"].like(\"%ERROR%\"))\n",
    "# postramos el numero total\n",
    "errors.count()"
   ]
  }
 ],
 "metadata": {
  "kernelspec": {
   "display_name": "Python 2",
   "language": "python",
   "name": "python2"
  },
  "language_info": {
   "codemirror_mode": {
    "name": "ipython",
    "version": 2
   },
   "file_extension": ".py",
   "mimetype": "text/x-python",
   "name": "python",
   "nbconvert_exporter": "python",
   "pygments_lexer": "ipython2",
   "version": "2.7.14"
  }
 },
 "nbformat": 4,
 "nbformat_minor": 2
}
