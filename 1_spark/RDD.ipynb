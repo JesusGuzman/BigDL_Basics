{
 "cells": [
  {
   "cell_type": "markdown",
   "metadata": {},
   "source": [
    "# Resilient Distributed Datasets (RDDs)"
   ]
  },
  {
   "cell_type": "markdown",
   "metadata": {},
   "source": [
    "En este tutorial, vamos a presentar los conjuntos de datos distribuidos resilientes (RDD),\n",
    "que es la abstracción central de Spark cuando se trabaja con datos.\n",
    "Un RDD es una colección distribuida de elementos que pueden operarse en paralelo. \n",
    "Los usuarios pueden crear RDD de dos maneras: paralelizando una colección existente en \n",
    "su programa o cargando un conjunto de datos en un sistema de almacenamiento externo.\n",
    "Los RDD admiten dos tipos de operaciones: \n",
    "    * transformaciones  \n",
    "    * acciones\n",
    "Las transformaciones construyen un nuevo RDD a partir de uno anterior y las acciones\n",
    "calculan un resultado basado en un RDD. \n",
    "Presentamos las operaciones básicas de los RDD mediante el siguiente ejemplo simple de conteo de palabras:"
   ]
  },
  {
   "cell_type": "code",
   "execution_count": null,
   "metadata": {},
   "outputs": [],
   "source": [
    "text_file = sc.parallelize([\"hello\",\"hello world\"])\n",
    "counts = text_file.flatMap(lambda line: line.split(\" \")) \\\n",
    "             .map(lambda word: (word, 1)) \\\n",
    "             .reduceByKey(lambda a, b: a + b)\n",
    "for line in counts.collect():\n",
    "    print line"
   ]
  },
  {
   "cell_type": "code",
   "execution_count": null,
   "metadata": {
    "collapsed": true
   },
   "outputs": [],
   "source": []
  }
 ],
 "metadata": {
  "kernelspec": {
   "display_name": "Python 2",
   "language": "python",
   "name": "python2"
  },
  "language_info": {
   "codemirror_mode": {
    "name": "ipython",
    "version": 2
   },
   "file_extension": ".py",
   "mimetype": "text/x-python",
   "name": "python",
   "nbconvert_exporter": "python",
   "pygments_lexer": "ipython2",
   "version": "2.7.14"
  }
 },
 "nbformat": 4,
 "nbformat_minor": 2
}
